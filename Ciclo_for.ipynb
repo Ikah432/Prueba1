{
  "nbformat": 4,
  "nbformat_minor": 0,
  "metadata": {
    "colab": {
      "name": "Ciclo for",
      "provenance": [],
      "authorship_tag": "ABX9TyOpVuVIJFn7/F7j0DoWHMlB",
      "include_colab_link": true
    },
    "kernelspec": {
      "name": "python3",
      "display_name": "Python 3"
    },
    "language_info": {
      "name": "python"
    }
  },
  "cells": [
    {
      "cell_type": "markdown",
      "metadata": {
        "id": "view-in-github",
        "colab_type": "text"
      },
      "source": [
        "<a href=\"https://colab.research.google.com/github/Ikah432/Prueba1/blob/main/Ciclo_for.ipynb\" target=\"_parent\"><img src=\"https://colab.research.google.com/assets/colab-badge.svg\" alt=\"Open In Colab\"/></a>"
      ]
    },
    {
      "cell_type": "markdown",
      "source": [
        "Programa que pide un numero y da la tabla de multiplicacion.\n",
        "08/23/2022\n",
        "Creado por Vlad"
      ],
      "metadata": {
        "id": "Crgt6XU_Etiq"
      }
    },
    {
      "cell_type": "code",
      "execution_count": 2,
      "metadata": {
        "colab": {
          "base_uri": "https://localhost:8080/"
        },
        "id": "HD93eEn0EqZZ",
        "outputId": "17b9fb03-a799-493b-df2f-ca0f29c924c6"
      },
      "outputs": [
        {
          "output_type": "stream",
          "name": "stdout",
          "text": [
            "Ingrese un número: 5\n",
            "5  x  1  =  5\n",
            "5  x  2  =  10\n",
            "5  x  3  =  15\n",
            "5  x  4  =  20\n",
            "5  x  5  =  25\n",
            "5  x  6  =  30\n",
            "5  x  7  =  35\n",
            "5  x  8  =  40\n",
            "5  x  9  =  45\n",
            "5  x  10  =  50\n"
          ]
        }
      ],
      "source": [
        "numero = int(input(\"Ingrese un número: \"))\n",
        "\n",
        "for x in range (1, 11):\n",
        "  print(numero, \" x \", x, \" = \" , numero * x)\n"
      ]
    }
  ]
}