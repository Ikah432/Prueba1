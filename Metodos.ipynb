{
  "nbformat": 4,
  "nbformat_minor": 0,
  "metadata": {
    "colab": {
      "name": "Metodos.ipynb",
      "provenance": [],
      "authorship_tag": "ABX9TyPUeqh8w7Zxx1CZUlgVCrip",
      "include_colab_link": true
    },
    "kernelspec": {
      "name": "python3",
      "display_name": "Python 3"
    },
    "language_info": {
      "name": "python"
    }
  },
  "cells": [
    {
      "cell_type": "markdown",
      "metadata": {
        "id": "view-in-github",
        "colab_type": "text"
      },
      "source": [
        "<a href=\"https://colab.research.google.com/github/Ikah432/Prueba1/blob/main/Metodos.ipynb\" target=\"_parent\"><img src=\"https://colab.research.google.com/assets/colab-badge.svg\" alt=\"Open In Colab\"/></a>"
      ]
    },
    {
      "cell_type": "markdown",
      "source": [
        "Metodo para sumar, restar, multiplicar o dividir"
      ],
      "metadata": {
        "id": "ekECiq9eMt4h"
      }
    },
    {
      "cell_type": "code",
      "execution_count": 4,
      "metadata": {
        "colab": {
          "base_uri": "https://localhost:8080/"
        },
        "id": "pSOQP__IMq--",
        "outputId": "7452a8fd-fa03-4d0c-a242-d5e75c3a0c21"
      },
      "outputs": [
        {
          "output_type": "stream",
          "name": "stdout",
          "text": [
            "1. Sumar\n",
            "2. Restar\n",
            "3. Multiplicar\n",
            "4. Dividir\n",
            "3\n",
            "Ingrese primer numero: 5\n",
            "Ingrese segundo numero: 5\n",
            "5  x  5  =  25\n"
          ]
        }
      ],
      "source": [
        "opcion = input(\"1. Sumar\\n2. Restar\\n3. Multiplicar\\n4. Dividir\\n\")\n",
        "\n",
        "def Sumar(x1, x2):\n",
        "  print(x1, \" + \", x2, \" = \", x1 + x2)\n",
        "\n",
        "def Restar(x1, x2):\n",
        "  print(x1, \" - \", x2, \" = \", x1 - x2)\n",
        "\n",
        "def Multiplicar(x1, x2):\n",
        "  print(x1, \" x \", x2, \" = \", x1 * x2)\n",
        "\n",
        "def Dividir(x1, x2):\n",
        "  print(x1, \" / \", x2, \" = \", x1 / x2)\n",
        "\n",
        "if(opcion == \"1\"):\n",
        "  x1 = int(input(\"Ingrese primer numero: \"))\n",
        "  x2 = int(input(\"Ingrese segundo numero: \"))\n",
        "  Sumar(x1, x2)\n",
        "\n",
        "elif(opcion == \"2\"):\n",
        "  x1 = int(input(\"Ingrese primer numero: \"))\n",
        "  x2 = int(input(\"Ingrese segundo numero: \"))\n",
        "  Restar(x1, x2)\n",
        "\n",
        "elif(opcion == \"3\"):\n",
        "  x1 = int(input(\"Ingrese primer numero: \"))\n",
        "  x2 = int(input(\"Ingrese segundo numero: \"))\n",
        "  Multiplicar(x1, x2)\n",
        "\n",
        "elif(opcion == \"4\"):\n",
        "  x1 = int(input(\"Ingrese primer numero: \"))\n",
        "  x2 = int(input(\"Ingrese segundo numero: \"))\n",
        "  Dividir(x1, x2)\n",
        "\n",
        "else:\n",
        "  print(\"Opcion invalida\")"
      ]
    }
  ]
}