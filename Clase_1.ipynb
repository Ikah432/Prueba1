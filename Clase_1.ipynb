{
  "nbformat": 4,
  "nbformat_minor": 0,
  "metadata": {
    "colab": {
      "name": "Clase 1.ipynb",
      "provenance": [],
      "authorship_tag": "ABX9TyPoqqFoDjMbj/1jUt7EhI3U",
      "include_colab_link": true
    },
    "kernelspec": {
      "name": "python3",
      "display_name": "Python 3"
    },
    "language_info": {
      "name": "python"
    }
  },
  "cells": [
    {
      "cell_type": "markdown",
      "metadata": {
        "id": "view-in-github",
        "colab_type": "text"
      },
      "source": [
        "<a href=\"https://colab.research.google.com/github/Ikah432/Prueba1/blob/main/Clase_1.ipynb\" target=\"_parent\"><img src=\"https://colab.research.google.com/assets/colab-badge.svg\" alt=\"Open In Colab\"/></a>"
      ]
    },
    {
      "cell_type": "markdown",
      "source": [
        "Primer programa de Hola Mundo\n",
        "Pide nombre a usuario y lo saluda.\n",
        "Creado por Vlad."
      ],
      "metadata": {
        "id": "nTKC1wA5-77U"
      }
    },
    {
      "cell_type": "code",
      "execution_count": null,
      "metadata": {
        "colab": {
          "base_uri": "https://localhost:8080/"
        },
        "id": "_t8qJ3SU-7BJ",
        "outputId": "77060c32-9525-4636-b404-c5a217154a3f"
      },
      "outputs": [
        {
          "output_type": "stream",
          "name": "stdout",
          "text": [
            "Escriba su nombre: Vlad\n",
            "Hola  Vlad , cómo estás?) \n"
          ]
        }
      ],
      "source": [
        "nombre = input(\"Escriba su nombre: \")\n",
        "\n",
        "print(\"Hola \", nombre, \", cómo estás?\")"
      ]
    }
  ]
}