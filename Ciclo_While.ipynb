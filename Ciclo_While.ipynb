{
  "nbformat": 4,
  "nbformat_minor": 0,
  "metadata": {
    "colab": {
      "name": "Ciclo While.ipynb",
      "provenance": [],
      "authorship_tag": "ABX9TyPaoPzBw83hhvP1BRFyvB5H",
      "include_colab_link": true
    },
    "kernelspec": {
      "name": "python3",
      "display_name": "Python 3"
    },
    "language_info": {
      "name": "python"
    }
  },
  "cells": [
    {
      "cell_type": "markdown",
      "metadata": {
        "id": "view-in-github",
        "colab_type": "text"
      },
      "source": [
        "<a href=\"https://colab.research.google.com/github/Ikah432/Prueba1/blob/main/Ciclo_While.ipynb\" target=\"_parent\"><img src=\"https://colab.research.google.com/assets/colab-badge.svg\" alt=\"Open In Colab\"/></a>"
      ]
    },
    {
      "cell_type": "markdown",
      "source": [
        "Practica ciclo while\n"
      ],
      "metadata": {
        "id": "GjsCKR1dI6ZR"
      }
    },
    {
      "cell_type": "code",
      "execution_count": 5,
      "metadata": {
        "colab": {
          "base_uri": "https://localhost:8080/"
        },
        "id": "O_LmmrR4I331",
        "outputId": "ef9bf58d-1e80-400b-e0ff-4fffcbdfcd2e"
      },
      "outputs": [
        {
          "output_type": "stream",
          "name": "stdout",
          "text": [
            "Ingrese un número: 5\n",
            "5  x  1  =  5\n",
            "5  x  2  =  10\n",
            "5  x  3  =  15\n",
            "5  x  4  =  20\n",
            "5  x  5  =  25\n",
            "5  x  6  =  30\n",
            "5  x  7  =  35\n",
            "5  x  8  =  40\n",
            "5  x  9  =  45\n",
            "5  x  10  =  50\n"
          ]
        }
      ],
      "source": [
        "numero = int(input(\"Ingrese un número: \"))\n",
        "x = 1\n",
        "\n",
        "while x < 11:\n",
        "  print(numero, \" x \", x, \" = \", numero * x)\n",
        "  x += 1\n"
      ]
    }
  ]
}